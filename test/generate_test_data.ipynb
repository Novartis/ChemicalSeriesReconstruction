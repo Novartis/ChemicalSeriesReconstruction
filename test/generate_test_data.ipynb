{
 "cells": [
  {
   "cell_type": "code",
   "execution_count": 4,
   "id": "52e58a8e-2673-4635-ad06-756183f535b1",
   "metadata": {},
   "outputs": [],
   "source": [
    "# Created by Maximilian Beckers, December 2021"
   ]
  },
  {
   "cell_type": "code",
   "execution_count": 5,
   "id": "eb8c33e0-f942-4d5a-a0cb-02fb72027380",
   "metadata": {},
   "outputs": [],
   "source": [
    "import sys\n",
    "sys.path.append('..')\n",
    "\n",
    "from ChemicalSeriesReconstruction import ChemicalSeriesReconstruction"
   ]
  },
  {
   "cell_type": "markdown",
   "id": "d140a564-8714-41d7-8a78-acfa87c1ef5f",
   "metadata": {},
   "source": [
    "### write out the test smiles"
   ]
  },
  {
   "cell_type": "code",
   "execution_count": 6,
   "id": "0c849727-ab77-451b-811c-53e96548c20c",
   "metadata": {},
   "outputs": [],
   "source": [
    "import pandas as pd\n",
    "df= pd.read_csv(\"../Data/chembl_23.smi\", sep=\" \");\n",
    "smiles_list = list(df[\"canonical_smiles\"].to_numpy()[:1000]);\n",
    "chembl_ids = list(df[\"chembl_id\"].to_numpy()[:1000]);\n",
    "\n",
    "df_out = pd.DataFrame();\n",
    "df_out[\"Structure\"] = smiles_list;\n",
    "df_out[\"ChEMBL ID\"] = chembl_ids;\n",
    "df_out.to_csv(\"test_smiles.csv\", index=False);"
   ]
  },
  {
   "cell_type": "markdown",
   "id": "4b35e3ee-f162-4b4e-b90d-0baf609d6da0",
   "metadata": {},
   "source": [
    "### Raw "
   ]
  },
  {
   "cell_type": "code",
   "execution_count": 7,
   "id": "a60c40d7-3081-4f0a-9f82-2192d29d4113",
   "metadata": {},
   "outputs": [],
   "source": [
    "import pandas as pd\n",
    "df= pd.read_csv(\"test_smiles.csv\");\n",
    "smiles_list = list(df[\"Structure\"].to_numpy()[:1000]);\n",
    "\n",
    "min_cluster_size = 10;\n",
    "flimit = 0.001;\n",
    "scaffolds = None;\n",
    "dates = [];\n",
    "size_sliding_window = None;\n",
    "jaccard_similarity_threshold = None;\n",
    "\n",
    "series = ChemicalSeriesReconstruction(smiles_list, min_cluster_size, flimit, scaffolds, dates, size_sliding_window, jaccard_similarity_threshold);"
   ]
  },
  {
   "cell_type": "code",
   "execution_count": 12,
   "id": "fc877fbd-6c11-4413-9410-444358b63167",
   "metadata": {},
   "outputs": [],
   "source": [
    "df_series = pd.merge(series.series_data, df_out, on=\"Structure\")\n",
    "df_series.to_csv(\"series_data.csv\", index=False);\n",
    "series.mcs_data.to_csv(\"mcs_data.csv\", index=False);"
   ]
  },
  {
   "cell_type": "markdown",
   "id": "6503c14d-ca22-4c13-bd65-989642197ce0",
   "metadata": {},
   "source": [
    "### With Jaccard merging"
   ]
  },
  {
   "cell_type": "code",
   "execution_count": 13,
   "id": "32733efb-a362-4d04-8ad4-ec2097972322",
   "metadata": {},
   "outputs": [
    {
     "name": "stdout",
     "output_type": "stream",
     "text": [
      "Number of compounds after cleaning: 925\n",
      "\n",
      "Creating substructure library with RDKit ...\n",
      "RDKit ChEMBl database already exists. Will use the existing one\n",
      "Number of compounds in the ChEMBL database: 1855322\n",
      "\n",
      "****************************\n",
      "****** Pre-partioning ******\n",
      "****************************\n",
      "\n",
      "Partition the data ...\n",
      "Using 1 classes ...\n",
      "Start Farthest-first classification ...\n",
      "Time elapsed for pre-classification in s: 0.42170071601867676\n",
      "\n",
      "Using the following batch sizes: \n",
      "Number of compounds in  batch 0.0: 925\n",
      "\n",
      "****************************\n",
      "Processing batch 0.0\n",
      "Number of compounds in temporary batch: 925\n",
      "Calculate distance matrix ...\n",
      "Start UPGMA clustering ...\n",
      "Runtime for UPGMA clustering in s: 0.1750199794769287\n",
      "Calculate Node assignments ...\n",
      "Filter out Nodes and calculate MCS on the respective clusters ...\n",
      "Number of scaffolds identified in temporary batch: 11\n",
      "Runtime for MCS calculation in s: 134.90479016304016\n",
      "\n",
      "*******************************************\n",
      "**** Do structure matchings using MCS *****\n",
      "*******************************************\n",
      "\n",
      "Number of scaffolds BEFORE merging series with high overlap: 11\n",
      "Number of scaffolds AFTER merging series with high overlap: 8\n",
      "\n",
      "*****************************\n",
      "Total number of scaffolds found: 5\n",
      "Total number of molecules in all classes: 1504\n",
      "\n",
      "\n",
      "Calculating the fraction of the compounds explained by the scaffolds ...\n",
      "\n",
      "Determining Jaccard similarities between series ...\n",
      "Number of connected components at a Jaccard similarity threshold of 0.5: 2\n",
      "\n",
      "Calculating series purity ...\n",
      "\n",
      "\n",
      "Determining median Tanimoto similarities between series ...\n"
     ]
    }
   ],
   "source": [
    "import pandas as pd\n",
    "df= pd.read_csv(\"test_smiles.csv\");\n",
    "smiles_list = list(df[\"Structure\"].to_numpy()[:1000]);\n",
    "\n",
    "min_cluster_size = 10;\n",
    "flimit = 0.001;\n",
    "scaffolds = None;\n",
    "dates = [];\n",
    "size_sliding_window = None;\n",
    "jaccard_similarity_threshold = 0.5;\n",
    "\n",
    "series = ChemicalSeriesReconstruction(smiles_list, min_cluster_size, flimit, scaffolds, dates, size_sliding_window, jaccard_similarity_threshold);\n",
    "\n",
    "df_series = pd.merge(series.series_data, df_out, on=\"Structure\")\n",
    "df_series.to_csv(\"series_data_jaccard.csv\", index=False);\n",
    "series.mcs_data.to_csv(\"mcs_data_jaccard.csv\", index=False);"
   ]
  },
  {
   "cell_type": "markdown",
   "id": "cd683cbe-8817-4733-95e1-94858fd8fcec",
   "metadata": {},
   "source": [
    "### With time-stamps"
   ]
  },
  {
   "cell_type": "code",
   "execution_count": 14,
   "id": "b9ffb260-75a9-4fb5-845d-2082800ced03",
   "metadata": {},
   "outputs": [],
   "source": [
    "import pandas as pd\n",
    "df= pd.read_csv(\"test_smiles.csv\");\n",
    "smiles_list = list(df[\"Structure\"].to_numpy()[:1000]);\n",
    "\n",
    "#generate timestamps\n",
    "import datetime\n",
    "from random import randrange\n",
    "\n",
    "dates = [];\n",
    "current = datetime.datetime(2013, 9, 20,13, 00);\n",
    "for i in range(len(smiles_list)):\n",
    "    current = current + datetime.timedelta(minutes=100);\n",
    "    dates.append(current)"
   ]
  },
  {
   "cell_type": "code",
   "execution_count": 15,
   "id": "6914815b-898c-43aa-aeef-506e8066c356",
   "metadata": {},
   "outputs": [
    {
     "name": "stdout",
     "output_type": "stream",
     "text": [
      "Number of compounds after cleaning: 925\n",
      "\n",
      "Creating substructure library with RDKit ...\n",
      "RDKit ChEMBl database already exists. Will use the existing one\n",
      "Number of compounds in the ChEMBL database: 1855322\n",
      "\n",
      "****************************\n",
      "****** Pre-partioning ******\n",
      "****************************\n",
      "\n",
      "Partition the data ...\n",
      "Using 1 classes ...\n",
      "Start Farthest-first classification ...\n",
      "Time elapsed for pre-classification in s: 0.4175910949707031\n",
      "\n",
      "Using the following batch sizes: \n",
      "Number of compounds in  batch 0.0: 925\n",
      "\n",
      "****************************\n",
      "Processing batch 0.0\n",
      "Number of compounds in temporary batch: 925\n",
      "Calculate distance matrix ...\n",
      "Start UPGMA clustering ...\n",
      "Runtime for UPGMA clustering in s: 0.17152714729309082\n",
      "Calculate Node assignments ...\n",
      "Filter out Nodes and calculate MCS on the respective clusters ...\n",
      "Number of scaffolds identified in temporary batch: 11\n",
      "Runtime for MCS calculation in s: 134.6626718044281\n",
      "\n",
      "*******************************************\n",
      "**** Do structure matchings using MCS *****\n",
      "*******************************************\n",
      "\n",
      "Number of scaffolds BEFORE merging series with high overlap: 11\n",
      "Number of scaffolds AFTER merging series with high overlap: 8\n",
      "\n",
      "*****************************\n",
      "Total number of scaffolds found: 5\n",
      "Total number of molecules in all classes: 1504\n",
      "\n",
      "\n",
      "Calculating the fraction of the compounds explained by the scaffolds ...\n",
      "\n",
      "Determining Jaccard similarities between series ...\n",
      "Number of connected components at a Jaccard similarity threshold of 0.5: 2\n",
      "\n",
      "Calculating series purity ...\n",
      "\n",
      "\n",
      "Determining median Tanimoto similarities between series ...\n",
      "Determining active phases of series and subsetting the compounds in the active phases ...\n",
      "\n",
      "Now analyzing class 0 ...\n",
      "Number of active periods after splitting into active subseries: 2\n",
      "Time elapsed for subsetting active phases in s: 0.0949559211730957\n",
      "\n"
     ]
    }
   ],
   "source": [
    "min_cluster_size = 10;\n",
    "flimit = 0.001;\n",
    "scaffolds = None;\n",
    "size_sliding_window = 365;\n",
    "jaccard_similarity_threshold = 0.5;\n",
    "\n",
    "series = ChemicalSeriesReconstruction(smiles_list, min_cluster_size, flimit, scaffolds, dates, size_sliding_window, jaccard_similarity_threshold);\n",
    "\n",
    "df_series = pd.merge(series.series_data, df_out, on=\"Structure\")\n",
    "df_series.to_csv(\"series_data_time.csv\", index=False);\n",
    "series.mcs_data.to_csv(\"mcs_data_time.csv\", index=False);"
   ]
  },
  {
   "cell_type": "code",
   "execution_count": null,
   "id": "0c61e937-a78b-49f6-9545-1e35499c6dd9",
   "metadata": {},
   "outputs": [],
   "source": []
  }
 ],
 "metadata": {
  "kernelspec": {
   "display_name": "Python 3 (ipykernel)",
   "language": "python",
   "name": "python3"
  },
  "language_info": {
   "codemirror_mode": {
    "name": "ipython",
    "version": 3
   },
   "file_extension": ".py",
   "mimetype": "text/x-python",
   "name": "python",
   "nbconvert_exporter": "python",
   "pygments_lexer": "ipython3",
   "version": "3.9.6"
  }
 },
 "nbformat": 4,
 "nbformat_minor": 5
}
